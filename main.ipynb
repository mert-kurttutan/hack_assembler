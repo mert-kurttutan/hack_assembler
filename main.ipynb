{
 "cells": [
  {
   "cell_type": "markdown",
   "metadata": {},
   "source": [
    "# Testing of Assembler of Hack Language"
   ]
  },
  {
   "cell_type": "markdown",
   "metadata": {},
   "source": [
    "This notebook and (repository) is created for the final project of Online course \n",
    "<a href=\"https://www.nand2tetris.org/\"> From Nand to Tetris </a>.\n",
    "The relevant detailed background regarding this project can be found <a href=\"https://www.nand2tetris.org/project06\"> here </a>."
   ]
  },
  {
   "cell_type": "markdown",
   "metadata": {},
   "source": [
    "Let's first look at a few properties of the main object Parser- you also see explanation in the src directory.\n",
    "\n",
    "Create Parser object by giving the name of asm file to be parsed and turned into binary code."
   ]
  },
  {
   "cell_type": "code",
   "execution_count": 1,
   "metadata": {},
   "outputs": [],
   "source": [
    "from src.parser import Parser"
   ]
  },
  {
   "cell_type": "code",
   "execution_count": 2,
   "metadata": {},
   "outputs": [],
   "source": [
    "fname = \"test/add/Add.asm\"\n",
    "program_0 = Parser(fname)"
   ]
  },
  {
   "cell_type": "code",
   "execution_count": 3,
   "metadata": {},
   "outputs": [
    {
     "data": {
      "text/plain": [
       "'test/add/Add.asm'"
      ]
     },
     "execution_count": 3,
     "metadata": {},
     "output_type": "execute_result"
    }
   ],
   "source": [
    "program_0.file_name"
   ]
  },
  {
   "cell_type": "markdown",
   "metadata": {},
   "source": [
    "CHeck if there is more valid command in the rest of the file"
   ]
  },
  {
   "cell_type": "code",
   "execution_count": 4,
   "metadata": {},
   "outputs": [
    {
     "data": {
      "text/plain": [
       "True"
      ]
     },
     "execution_count": 4,
     "metadata": {},
     "output_type": "execute_result"
    }
   ],
   "source": [
    "program_0.hasMoreCommands()"
   ]
  },
  {
   "cell_type": "markdown",
   "metadata": {},
   "source": [
    "Check the list of available commands, (but not parsed)"
   ]
  },
  {
   "cell_type": "code",
   "execution_count": 5,
   "metadata": {},
   "outputs": [
    {
     "data": {
      "text/plain": [
       "['@2']"
      ]
     },
     "execution_count": 5,
     "metadata": {},
     "output_type": "execute_result"
    }
   ],
   "source": [
    "program_0.command_list"
   ]
  },
  {
   "cell_type": "markdown",
   "metadata": {},
   "source": [
    "Now check the index of lastly parsed command in command_list"
   ]
  },
  {
   "cell_type": "code",
   "execution_count": 6,
   "metadata": {},
   "outputs": [
    {
     "data": {
      "text/plain": [
       "-1"
      ]
     },
     "execution_count": 6,
     "metadata": {},
     "output_type": "execute_result"
    }
   ],
   "source": [
    "program_0.current_command_idx"
   ]
  },
  {
   "cell_type": "markdown",
   "metadata": {},
   "source": [
    "This is -1 since we did not parse any code at all. Now parse the first command. The index will move to 0"
   ]
  },
  {
   "cell_type": "code",
   "execution_count": 7,
   "metadata": {},
   "outputs": [
    {
     "data": {
      "text/plain": [
       "True"
      ]
     },
     "execution_count": 7,
     "metadata": {},
     "output_type": "execute_result"
    }
   ],
   "source": [
    "program_0.advance()"
   ]
  },
  {
   "cell_type": "code",
   "execution_count": 8,
   "metadata": {},
   "outputs": [
    {
     "data": {
      "text/plain": [
       "0"
      ]
     },
     "execution_count": 8,
     "metadata": {},
     "output_type": "execute_result"
    }
   ],
   "source": [
    "program_0.current_command_idx"
   ]
  },
  {
   "cell_type": "markdown",
   "metadata": {},
   "source": [
    "You can try other things to discover other properties."
   ]
  },
  {
   "cell_type": "markdown",
   "metadata": {},
   "source": [
    "Now, complete the actual part of project, by producing required hack files"
   ]
  },
  {
   "cell_type": "markdown",
   "metadata": {},
   "source": [
    "NOTE: The program is written in append mode. So, there is already existing file with the same name, it will append to this file. So, these files with the same name you entered should not exists"
   ]
  },
  {
   "cell_type": "code",
   "execution_count": 9,
   "metadata": {},
   "outputs": [],
   "source": [
    "def assembler(fname, bin_fname):\n",
    "\n",
    "    program = Parser(fname)\n",
    "    memory_table = Parser.parse_whole_first(program)\n",
    "\n",
    "    Parser.parse_whole_second(program, bin_fname, memory_table)\n",
    "\n",
    "    #close the program\n",
    "    program.close()"
   ]
  },
  {
   "cell_type": "code",
   "execution_count": 10,
   "metadata": {},
   "outputs": [],
   "source": [
    "fname_list = ['add/Add.asm', 'max/Max.asm', 'pong/Pong.asm', 'rect/Rect.asm']\n",
    "bin_fname_list = ['add/Add.hack', 'max/Max.hack', 'pong/Pong.hack', 'rect/Rect.hack']"
   ]
  },
  {
   "cell_type": "code",
   "execution_count": 11,
   "metadata": {},
   "outputs": [
    {
     "name": "stdout",
     "output_type": "stream",
     "text": [
      "Entire file is parsed into binary code\n",
      "Entire file is parsed into binary code\n",
      "Entire file is parsed into binary code\n",
      "Entire file is parsed into binary code\n",
      "Entire file is parsed into binary code\n",
      "Entire file is parsed into binary code\n",
      "Entire file is parsed into binary code\n",
      "Entire file is parsed into binary code\n"
     ]
    }
   ],
   "source": [
    "for i_name, o_name in zip(fname_list, bin_fname_list):\n",
    "    assembler('test/'+i_name, 'test/'+o_name)\n"
   ]
  },
  {
   "cell_type": "code",
   "execution_count": 15,
   "metadata": {},
   "outputs": [],
   "source": [
    "\"\"\"\n",
    "This class represents grades for students in a class.\n",
    "\"\"\"\n",
    "class StudentGrade:\n",
    "    \"\"\"\n",
    "    >>> grade1 = StudentGrade(\"Arfur Artery\", 300)\n",
    "    >>> grade1.is_failing()\n",
    "    False\n",
    "    >>> grade2 = StudentGrade(\"MoMo OhNo\", 158)\n",
    "    >>> grade2.is_failing()\n",
    "    True\n",
    "    >>> grade1.failing_grade\n",
    "    159\n",
    "    >>> grade2.failing_grade\n",
    "    159\n",
    "    >>> StudentGrade.failing_grade\n",
    "    159\n",
    "    >>>\n",
    "    \"\"\"\n",
    "    failing_grade = 159\n",
    "\n",
    "    def __init__(self, student_name, num_points):\n",
    "        self.__student_name = student_name\n",
    "        self._num_points = num_points\n",
    "\n",
    "    def is_failing(self):\n",
    "        return self.num_points < self.failing_grade"
   ]
  },
  {
   "cell_type": "code",
   "execution_count": 16,
   "metadata": {},
   "outputs": [],
   "source": [
    "me = StudentGrade(\"mert\", 999)"
   ]
  }
 ],
 "metadata": {
  "interpreter": {
   "hash": "2e70b75df09cceeac103cf574df77d4569829567e861d3e9284e418989923057"
  },
  "kernelspec": {
   "display_name": "Python 3.9.0 ('tf-env')",
   "language": "python",
   "name": "python3"
  },
  "language_info": {
   "codemirror_mode": {
    "name": "ipython",
    "version": 3
   },
   "file_extension": ".py",
   "mimetype": "text/x-python",
   "name": "python",
   "nbconvert_exporter": "python",
   "pygments_lexer": "ipython3",
   "version": "3.9.10"
  },
  "orig_nbformat": 4
 },
 "nbformat": 4,
 "nbformat_minor": 2
}
